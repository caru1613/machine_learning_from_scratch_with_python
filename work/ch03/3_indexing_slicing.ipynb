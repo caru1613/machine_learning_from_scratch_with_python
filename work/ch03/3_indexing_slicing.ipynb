{
 "cells": [
  {
   "cell_type": "code",
   "execution_count": 8,
   "id": "32dbe0eb",
   "metadata": {},
   "outputs": [
    {
     "name": "stdout",
     "output_type": "stream",
     "text": [
      "[[1 2 3]\n",
      " [4 5 6]]\n",
      "1\n",
      "1\n",
      "4\n",
      "4\n",
      "2\n",
      "2\n"
     ]
    }
   ],
   "source": [
    "import numpy as np\n",
    "a = np.array([[1,2,3], [4.5,5,6]], int)\n",
    "print(a)\n",
    "print(a[0,0])\n",
    "print(a[0][0])\n",
    "print(a[1,0])\n",
    "print(a[1][0])\n",
    "print(a[0,1])\n",
    "print(a[0][1])"
   ]
  },
  {
   "cell_type": "code",
   "execution_count": 6,
   "id": "e61bab5a",
   "metadata": {
    "scrolled": true
   },
   "outputs": [
    {
     "name": "stdout",
     "output_type": "stream",
     "text": [
      "[[12  2  3]\n",
      " [ 4  5  6]]\n"
     ]
    }
   ],
   "source": [
    "a = np.array([[1,2,3], [4.5,5,6]], int)\n",
    "a[0,0] = 12\n",
    "print(a)"
   ]
  },
  {
   "cell_type": "code",
   "execution_count": 7,
   "id": "952ba119",
   "metadata": {},
   "outputs": [
    {
     "name": "stdout",
     "output_type": "stream",
     "text": [
      "[[5 2 3]\n",
      " [4 5 6]]\n"
     ]
    }
   ],
   "source": [
    "a = np.array([[1,2,3], [4.5,5,6]], int)\n",
    "a[0][0] = 5\n",
    "print(a)"
   ]
  },
  {
   "cell_type": "code",
   "execution_count": 10,
   "id": "c9023d24",
   "metadata": {},
   "outputs": [
    {
     "name": "stdout",
     "output_type": "stream",
     "text": [
      "[[ 3  4  5]\n",
      " [ 8  9 10]]\n",
      "[7 8]\n",
      "[[ 6  7  8  9 10]]\n"
     ]
    }
   ],
   "source": [
    "a = np.array([[1,2,3,4,5], [6,7,8,9,10]], int)\n",
    "print(a[:,2:]) # 전체 Row의 2열 이상\n",
    "print(a[1,1:3]) #1 Row의 Column 1 ~ 2.\n",
    "print(a[1:3]) # 1 ROW ~ 2ROW의 전체"
   ]
  },
  {
   "cell_type": "code",
   "execution_count": 13,
   "id": "62d2b194",
   "metadata": {},
   "outputs": [
    {
     "name": "stdout",
     "output_type": "stream",
     "text": [
      "[[ 0  1  2  3  4]\n",
      " [ 5  6  7  8  9]\n",
      " [10 11 12 13 14]]\n",
      "[[ 0  2  4]\n",
      " [ 5  7  9]\n",
      " [10 12 14]]\n",
      "[[ 0  3]\n",
      " [10 13]]\n"
     ]
    }
   ],
   "source": [
    "a = np.array([[0,1,2,3,4],[5,6,7,8,9],[10,11,12,13,14]], int)\n",
    "print(a)\n",
    "print(a[:,::2])\n",
    "print(a[::2,::3])"
   ]
  },
  {
   "cell_type": "code",
   "execution_count": null,
   "id": "90763200",
   "metadata": {},
   "outputs": [],
   "source": []
  }
 ],
 "metadata": {
  "kernelspec": {
   "display_name": "Python 3 (ipykernel)",
   "language": "python",
   "name": "python3"
  },
  "language_info": {
   "codemirror_mode": {
    "name": "ipython",
    "version": 3
   },
   "file_extension": ".py",
   "mimetype": "text/x-python",
   "name": "python",
   "nbconvert_exporter": "python",
   "pygments_lexer": "ipython3",
   "version": "3.9.7"
  }
 },
 "nbformat": 4,
 "nbformat_minor": 5
}
