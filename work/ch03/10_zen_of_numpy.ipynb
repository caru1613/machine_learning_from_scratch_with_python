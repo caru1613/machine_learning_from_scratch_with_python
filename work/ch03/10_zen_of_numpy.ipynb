{
 "cells": [
  {
   "cell_type": "code",
   "execution_count": 47,
   "id": "1d139bfa",
   "metadata": {},
   "outputs": [
    {
     "data": {
      "text/plain": [
       "array([0., 1., 2., 3., 4., 5., 6., 7., 8.])"
      ]
     },
     "execution_count": 47,
     "metadata": {},
     "output_type": "execute_result"
    }
   ],
   "source": [
    "import numpy as np\n",
    "\n",
    "n = 3\n",
    "dim =3\n",
    "\n",
    "#data = np.random.random(size=dim*n)\n",
    "data = np.arange(dim*n, dtype=float)\n",
    "data"
   ]
  },
  {
   "cell_type": "code",
   "execution_count": 48,
   "id": "6da5aebe",
   "metadata": {},
   "outputs": [
    {
     "data": {
      "text/plain": [
       "array([[0., 1., 2.],\n",
       "       [3., 4., 5.],\n",
       "       [6., 7., 8.]])"
      ]
     },
     "execution_count": 48,
     "metadata": {},
     "output_type": "execute_result"
    }
   ],
   "source": [
    "data = data.reshape(n,dim)\n",
    "data"
   ]
  },
  {
   "cell_type": "code",
   "execution_count": 49,
   "id": "4135d5c4",
   "metadata": {},
   "outputs": [
    {
     "data": {
      "text/plain": [
       "array([[[0., 1., 2.]],\n",
       "\n",
       "       [[3., 4., 5.]],\n",
       "\n",
       "       [[6., 7., 8.]]])"
      ]
     },
     "execution_count": 49,
     "metadata": {},
     "output_type": "execute_result"
    }
   ],
   "source": [
    "diff = data.reshape(n,1,dim)\n",
    "diff"
   ]
  },
  {
   "cell_type": "code",
   "execution_count": 45,
   "id": "4354d4d1",
   "metadata": {},
   "outputs": [
    {
     "data": {
      "text/plain": [
       "array([[[ 0.,  0.,  0.],\n",
       "        [-3., -3., -3.],\n",
       "        [-6., -6., -6.]],\n",
       "\n",
       "       [[ 3.,  3.,  3.],\n",
       "        [ 0.,  0.,  0.],\n",
       "        [-3., -3., -3.]],\n",
       "\n",
       "       [[ 6.,  6.,  6.],\n",
       "        [ 3.,  3.,  3.],\n",
       "        [ 0.,  0.,  0.]]])"
      ]
     },
     "execution_count": 45,
     "metadata": {},
     "output_type": "execute_result"
    }
   ],
   "source": [
    "#diff = data - diff\n",
    "diff = diff - data\n",
    "diff"
   ]
  },
  {
   "cell_type": "code",
   "execution_count": 46,
   "id": "af18f6c5",
   "metadata": {},
   "outputs": [
    {
     "data": {
      "text/plain": [
       "array([[  0.,  27., 108.],\n",
       "       [ 27.,   0.,  27.],\n",
       "       [108.,  27.,   0.]])"
      ]
     },
     "execution_count": 46,
     "metadata": {},
     "output_type": "execute_result"
    }
   ],
   "source": [
    "distance = np.sum(diff ** 2, axis=2)\n",
    "distance"
   ]
  },
  {
   "cell_type": "code",
   "execution_count": 52,
   "id": "5750e77c",
   "metadata": {},
   "outputs": [
    {
     "data": {
      "text/plain": [
       "(array([0, 1, 2]),\n",
       " array([[ inf,  27., 108.],\n",
       "        [ 27.,  inf,  27.],\n",
       "        [108.,  27.,  inf]]))"
      ]
     },
     "execution_count": 52,
     "metadata": {},
     "output_type": "execute_result"
    }
   ],
   "source": [
    "oneself =  np.arange(n)\n",
    "distance[oneself, oneself] = np.inf\n",
    "oneself,distance"
   ]
  },
  {
   "cell_type": "code",
   "execution_count": 54,
   "id": "cab7609d",
   "metadata": {},
   "outputs": [
    {
     "data": {
      "text/plain": [
       "array([1, 0, 1])"
      ]
     },
     "execution_count": 54,
     "metadata": {},
     "output_type": "execute_result"
    }
   ],
   "source": [
    "neighbors = np.argmin(distance, axis=1)\n",
    "neighbors"
   ]
  },
  {
   "cell_type": "code",
   "execution_count": null,
   "id": "6ac14f7c",
   "metadata": {},
   "outputs": [],
   "source": []
  }
 ],
 "metadata": {
  "kernelspec": {
   "display_name": "Python 3 (ipykernel)",
   "language": "python",
   "name": "python3"
  },
  "language_info": {
   "codemirror_mode": {
    "name": "ipython",
    "version": 3
   },
   "file_extension": ".py",
   "mimetype": "text/x-python",
   "name": "python",
   "nbconvert_exporter": "python",
   "pygments_lexer": "ipython3",
   "version": "3.9.7"
  }
 },
 "nbformat": 4,
 "nbformat_minor": 5
}
