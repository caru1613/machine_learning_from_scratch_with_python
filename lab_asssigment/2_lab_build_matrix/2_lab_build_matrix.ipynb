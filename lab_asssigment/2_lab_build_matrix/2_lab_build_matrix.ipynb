{
 "cells": [
  {
   "cell_type": "code",
   "execution_count": 2,
   "id": "5e4e7639",
   "metadata": {},
   "outputs": [
    {
     "data": {
      "text/plain": [
       "(pandas.core.frame.DataFrame,\n",
       "            source              target  rating\n",
       " 0   Jack Matthews   Lady in the Water     3.0\n",
       " 1   Jack Matthews   Snakes on a Plane     4.0\n",
       " 2   Jack Matthews   You Me and Dupree     3.5\n",
       " 3   Jack Matthews    Superman Returns     5.0\n",
       " 4   Jack Matthews  The Night Listener     3.0\n",
       " 5    Mick LaSalle   Lady in the Water     3.0\n",
       " 6    Mick LaSalle   Snakes on a Plane     4.0\n",
       " 7    Mick LaSalle        Just My Luck     2.0\n",
       " 8    Mick LaSalle    Superman Returns     3.0\n",
       " 9    Mick LaSalle  The Night Listener     3.0\n",
       " 10   Claudia Puig   Snakes on a Plane     3.5\n",
       " 11   Claudia Puig        Just My Luck     3.0\n",
       " 12   Claudia Puig  The Night Listener     4.5\n",
       " 13      Lisa Rose   Lady in the Water     2.5\n",
       " 14      Lisa Rose   Snakes on a Plane     3.5\n",
       " 15      Lisa Rose        Just My Luck     3.0\n",
       " 16      Lisa Rose    Superman Returns     3.5\n",
       " 17      Lisa Rose  The Night Listener     3.0\n",
       " 18      Lisa Rose   You Me and Dupree     2.5\n",
       " 19           Toby   Snakes on a Plane     4.5\n",
       " 20           Toby    Superman Returns     4.0\n",
       " 21   Gene Seymour   Lady in the Water     3.0\n",
       " 22   Gene Seymour   Snakes on a Plane     3.5\n",
       " 23   Gene Seymour   You Me and Dupree     3.5\n",
       " 24   Gene Seymour  The Night Listener     3.0)"
      ]
     },
     "execution_count": 2,
     "metadata": {},
     "output_type": "execute_result"
    }
   ],
   "source": [
    "import numpy as np\n",
    "import pandas as pd\n",
    "\n",
    "df_data = pd.read_csv(\"./movie_rating.csv\")\n",
    "type(df_data), df_data"
   ]
  },
  {
   "cell_type": "code",
   "execution_count": 3,
   "id": "1900b06c",
   "metadata": {},
   "outputs": [
    {
     "data": {
      "text/plain": [
       "(pandas.core.frame.DataFrame,\n",
       "            source              target  rating\n",
       " 12   Claudia Puig  The Night Listener     4.5\n",
       " 11   Claudia Puig        Just My Luck     3.0\n",
       " 10   Claudia Puig   Snakes on a Plane     3.5\n",
       " 22   Gene Seymour   Snakes on a Plane     3.5\n",
       " 21   Gene Seymour   Lady in the Water     3.0\n",
       " 23   Gene Seymour   You Me and Dupree     3.5\n",
       " 24   Gene Seymour  The Night Listener     3.0\n",
       " 0   Jack Matthews   Lady in the Water     3.0\n",
       " 1   Jack Matthews   Snakes on a Plane     4.0\n",
       " 2   Jack Matthews   You Me and Dupree     3.5\n",
       " 4   Jack Matthews  The Night Listener     3.0\n",
       " 3   Jack Matthews    Superman Returns     5.0\n",
       " 18      Lisa Rose   You Me and Dupree     2.5\n",
       " 17      Lisa Rose  The Night Listener     3.0\n",
       " 16      Lisa Rose    Superman Returns     3.5\n",
       " 15      Lisa Rose        Just My Luck     3.0\n",
       " 14      Lisa Rose   Snakes on a Plane     3.5\n",
       " 13      Lisa Rose   Lady in the Water     2.5\n",
       " 5    Mick LaSalle   Lady in the Water     3.0\n",
       " 9    Mick LaSalle  The Night Listener     3.0\n",
       " 8    Mick LaSalle    Superman Returns     3.0\n",
       " 6    Mick LaSalle   Snakes on a Plane     4.0\n",
       " 7    Mick LaSalle        Just My Luck     2.0\n",
       " 19           Toby   Snakes on a Plane     4.5\n",
       " 20           Toby    Superman Returns     4.0)"
      ]
     },
     "execution_count": 3,
     "metadata": {},
     "output_type": "execute_result"
    }
   ],
   "source": [
    "#Source 의 index화.\n",
    "df_data_sort = df_data.sort_values([\"source\"], ascending=True)\n",
    "type(df_data_sort), df_data_sort"
   ]
  },
  {
   "cell_type": "code",
   "execution_count": 4,
   "id": "312e9951",
   "metadata": {},
   "outputs": [
    {
     "data": {
      "text/plain": [
       "(numpy.ndarray,\n",
       " array(['Claudia Puig', 'Gene Seymour', 'Jack Matthews', 'Lisa Rose',\n",
       "        'Mick LaSalle', 'Toby'], dtype=object))"
      ]
     },
     "execution_count": 4,
     "metadata": {},
     "output_type": "execute_result"
    }
   ],
   "source": [
    "df_source_unique = df_data_sort[\"source\"].unique()\n",
    "\n",
    "type(df_source_unique), df_source_unique"
   ]
  },
  {
   "cell_type": "code",
   "execution_count": 5,
   "id": "ba640ae3",
   "metadata": {},
   "outputs": [
    {
     "data": {
      "text/plain": [
       "(numpy.ndarray,\n",
       " array({0: 'Claudia Puig', 1: 'Gene Seymour', 2: 'Jack Matthews', 3: 'Lisa Rose', 4: 'Mick LaSalle', 5: 'Toby'},\n",
       "       dtype=object))"
      ]
     },
     "execution_count": 5,
     "metadata": {},
     "output_type": "execute_result"
    }
   ],
   "source": [
    "df_index = np.array(dict(enumerate(df_data_sort[\"source\"].unique())))\n",
    "type(df_index), df_index"
   ]
  },
  {
   "cell_type": "code",
   "execution_count": 6,
   "id": "389bb916",
   "metadata": {},
   "outputs": [
    {
     "data": {
      "text/html": [
       "<div>\n",
       "<style scoped>\n",
       "    .dataframe tbody tr th:only-of-type {\n",
       "        vertical-align: middle;\n",
       "    }\n",
       "\n",
       "    .dataframe tbody tr th {\n",
       "        vertical-align: top;\n",
       "    }\n",
       "\n",
       "    .dataframe thead th {\n",
       "        text-align: right;\n",
       "    }\n",
       "</style>\n",
       "<table border=\"1\" class=\"dataframe\">\n",
       "  <thead>\n",
       "    <tr style=\"text-align: right;\">\n",
       "      <th></th>\n",
       "      <th>source</th>\n",
       "      <th>target</th>\n",
       "      <th>rating</th>\n",
       "    </tr>\n",
       "  </thead>\n",
       "  <tbody>\n",
       "    <tr>\n",
       "      <th>12</th>\n",
       "      <td>Claudia Puig</td>\n",
       "      <td>The Night Listener</td>\n",
       "      <td>4.5</td>\n",
       "    </tr>\n",
       "    <tr>\n",
       "      <th>11</th>\n",
       "      <td>Claudia Puig</td>\n",
       "      <td>Just My Luck</td>\n",
       "      <td>3.0</td>\n",
       "    </tr>\n",
       "    <tr>\n",
       "      <th>10</th>\n",
       "      <td>Claudia Puig</td>\n",
       "      <td>Snakes on a Plane</td>\n",
       "      <td>3.5</td>\n",
       "    </tr>\n",
       "  </tbody>\n",
       "</table>\n",
       "</div>"
      ],
      "text/plain": [
       "          source              target  rating\n",
       "12  Claudia Puig  The Night Listener     4.5\n",
       "11  Claudia Puig        Just My Luck     3.0\n",
       "10  Claudia Puig   Snakes on a Plane     3.5"
      ]
     },
     "execution_count": 6,
     "metadata": {},
     "output_type": "execute_result"
    }
   ],
   "source": [
    "df_data_sort[df_data_sort['source'] == df_source_unique[0]]"
   ]
  },
  {
   "cell_type": "code",
   "execution_count": 12,
   "id": "50e9224a",
   "metadata": {},
   "outputs": [
    {
     "data": {
      "text/html": [
       "<div>\n",
       "<style scoped>\n",
       "    .dataframe tbody tr th:only-of-type {\n",
       "        vertical-align: middle;\n",
       "    }\n",
       "\n",
       "    .dataframe tbody tr th {\n",
       "        vertical-align: top;\n",
       "    }\n",
       "\n",
       "    .dataframe thead th {\n",
       "        text-align: right;\n",
       "    }\n",
       "</style>\n",
       "<table border=\"1\" class=\"dataframe\">\n",
       "  <thead>\n",
       "    <tr style=\"text-align: right;\">\n",
       "      <th></th>\n",
       "      <th>source</th>\n",
       "      <th>target</th>\n",
       "      <th>rating</th>\n",
       "    </tr>\n",
       "  </thead>\n",
       "  <tbody>\n",
       "    <tr>\n",
       "      <th>12</th>\n",
       "      <td>Claudia Puig</td>\n",
       "      <td>The Night Listener</td>\n",
       "      <td>4.5</td>\n",
       "    </tr>\n",
       "    <tr>\n",
       "      <th>11</th>\n",
       "      <td>Claudia Puig</td>\n",
       "      <td>Just My Luck</td>\n",
       "      <td>3.0</td>\n",
       "    </tr>\n",
       "    <tr>\n",
       "      <th>10</th>\n",
       "      <td>Claudia Puig</td>\n",
       "      <td>Snakes on a Plane</td>\n",
       "      <td>3.5</td>\n",
       "    </tr>\n",
       "    <tr>\n",
       "      <th>22</th>\n",
       "      <td>Gene Seymour</td>\n",
       "      <td>Snakes on a Plane</td>\n",
       "      <td>3.5</td>\n",
       "    </tr>\n",
       "    <tr>\n",
       "      <th>21</th>\n",
       "      <td>Gene Seymour</td>\n",
       "      <td>Lady in the Water</td>\n",
       "      <td>3.0</td>\n",
       "    </tr>\n",
       "    <tr>\n",
       "      <th>23</th>\n",
       "      <td>Gene Seymour</td>\n",
       "      <td>You Me and Dupree</td>\n",
       "      <td>3.5</td>\n",
       "    </tr>\n",
       "    <tr>\n",
       "      <th>24</th>\n",
       "      <td>Gene Seymour</td>\n",
       "      <td>The Night Listener</td>\n",
       "      <td>3.0</td>\n",
       "    </tr>\n",
       "    <tr>\n",
       "      <th>0</th>\n",
       "      <td>Jack Matthews</td>\n",
       "      <td>Lady in the Water</td>\n",
       "      <td>3.0</td>\n",
       "    </tr>\n",
       "    <tr>\n",
       "      <th>1</th>\n",
       "      <td>Jack Matthews</td>\n",
       "      <td>Snakes on a Plane</td>\n",
       "      <td>4.0</td>\n",
       "    </tr>\n",
       "    <tr>\n",
       "      <th>2</th>\n",
       "      <td>Jack Matthews</td>\n",
       "      <td>You Me and Dupree</td>\n",
       "      <td>3.5</td>\n",
       "    </tr>\n",
       "    <tr>\n",
       "      <th>4</th>\n",
       "      <td>Jack Matthews</td>\n",
       "      <td>The Night Listener</td>\n",
       "      <td>3.0</td>\n",
       "    </tr>\n",
       "    <tr>\n",
       "      <th>3</th>\n",
       "      <td>Jack Matthews</td>\n",
       "      <td>Superman Returns</td>\n",
       "      <td>5.0</td>\n",
       "    </tr>\n",
       "    <tr>\n",
       "      <th>18</th>\n",
       "      <td>Lisa Rose</td>\n",
       "      <td>You Me and Dupree</td>\n",
       "      <td>2.5</td>\n",
       "    </tr>\n",
       "    <tr>\n",
       "      <th>17</th>\n",
       "      <td>Lisa Rose</td>\n",
       "      <td>The Night Listener</td>\n",
       "      <td>3.0</td>\n",
       "    </tr>\n",
       "    <tr>\n",
       "      <th>16</th>\n",
       "      <td>Lisa Rose</td>\n",
       "      <td>Superman Returns</td>\n",
       "      <td>3.5</td>\n",
       "    </tr>\n",
       "    <tr>\n",
       "      <th>15</th>\n",
       "      <td>Lisa Rose</td>\n",
       "      <td>Just My Luck</td>\n",
       "      <td>3.0</td>\n",
       "    </tr>\n",
       "    <tr>\n",
       "      <th>14</th>\n",
       "      <td>Lisa Rose</td>\n",
       "      <td>Snakes on a Plane</td>\n",
       "      <td>3.5</td>\n",
       "    </tr>\n",
       "    <tr>\n",
       "      <th>13</th>\n",
       "      <td>Lisa Rose</td>\n",
       "      <td>Lady in the Water</td>\n",
       "      <td>2.5</td>\n",
       "    </tr>\n",
       "    <tr>\n",
       "      <th>5</th>\n",
       "      <td>Mick LaSalle</td>\n",
       "      <td>Lady in the Water</td>\n",
       "      <td>3.0</td>\n",
       "    </tr>\n",
       "    <tr>\n",
       "      <th>9</th>\n",
       "      <td>Mick LaSalle</td>\n",
       "      <td>The Night Listener</td>\n",
       "      <td>3.0</td>\n",
       "    </tr>\n",
       "    <tr>\n",
       "      <th>8</th>\n",
       "      <td>Mick LaSalle</td>\n",
       "      <td>Superman Returns</td>\n",
       "      <td>3.0</td>\n",
       "    </tr>\n",
       "    <tr>\n",
       "      <th>6</th>\n",
       "      <td>Mick LaSalle</td>\n",
       "      <td>Snakes on a Plane</td>\n",
       "      <td>4.0</td>\n",
       "    </tr>\n",
       "    <tr>\n",
       "      <th>7</th>\n",
       "      <td>Mick LaSalle</td>\n",
       "      <td>Just My Luck</td>\n",
       "      <td>2.0</td>\n",
       "    </tr>\n",
       "    <tr>\n",
       "      <th>19</th>\n",
       "      <td>Toby</td>\n",
       "      <td>Snakes on a Plane</td>\n",
       "      <td>4.5</td>\n",
       "    </tr>\n",
       "    <tr>\n",
       "      <th>20</th>\n",
       "      <td>Toby</td>\n",
       "      <td>Superman Returns</td>\n",
       "      <td>4.0</td>\n",
       "    </tr>\n",
       "  </tbody>\n",
       "</table>\n",
       "</div>"
      ],
      "text/plain": [
       "           source              target  rating\n",
       "12   Claudia Puig  The Night Listener     4.5\n",
       "11   Claudia Puig        Just My Luck     3.0\n",
       "10   Claudia Puig   Snakes on a Plane     3.5\n",
       "22   Gene Seymour   Snakes on a Plane     3.5\n",
       "21   Gene Seymour   Lady in the Water     3.0\n",
       "23   Gene Seymour   You Me and Dupree     3.5\n",
       "24   Gene Seymour  The Night Listener     3.0\n",
       "0   Jack Matthews   Lady in the Water     3.0\n",
       "1   Jack Matthews   Snakes on a Plane     4.0\n",
       "2   Jack Matthews   You Me and Dupree     3.5\n",
       "4   Jack Matthews  The Night Listener     3.0\n",
       "3   Jack Matthews    Superman Returns     5.0\n",
       "18      Lisa Rose   You Me and Dupree     2.5\n",
       "17      Lisa Rose  The Night Listener     3.0\n",
       "16      Lisa Rose    Superman Returns     3.5\n",
       "15      Lisa Rose        Just My Luck     3.0\n",
       "14      Lisa Rose   Snakes on a Plane     3.5\n",
       "13      Lisa Rose   Lady in the Water     2.5\n",
       "5    Mick LaSalle   Lady in the Water     3.0\n",
       "9    Mick LaSalle  The Night Listener     3.0\n",
       "8    Mick LaSalle    Superman Returns     3.0\n",
       "6    Mick LaSalle   Snakes on a Plane     4.0\n",
       "7    Mick LaSalle        Just My Luck     2.0\n",
       "19           Toby   Snakes on a Plane     4.5\n",
       "20           Toby    Superman Returns     4.0"
      ]
     },
     "execution_count": 12,
     "metadata": {},
     "output_type": "execute_result"
    }
   ],
   "source": [
    "df_data_sort[df_data_sort['source'].isin(df_source_unique)]"
   ]
  },
  {
   "cell_type": "code",
   "execution_count": 13,
   "id": "395afdb6",
   "metadata": {},
   "outputs": [
    {
     "ename": "TypeError",
     "evalue": "only list-like objects are allowed to be passed to isin(), you passed a [str]",
     "output_type": "error",
     "traceback": [
      "\u001b[0;31m---------------------------------------------------------------------------\u001b[0m",
      "\u001b[0;31mTypeError\u001b[0m                                 Traceback (most recent call last)",
      "\u001b[0;32m/tmp/ipykernel_281/910490913.py\u001b[0m in \u001b[0;36m<module>\u001b[0;34m\u001b[0m\n\u001b[0;32m----> 1\u001b[0;31m \u001b[0mdf_data_sort\u001b[0m\u001b[0;34m[\u001b[0m\u001b[0mdf_data_sort\u001b[0m\u001b[0;34m[\u001b[0m\u001b[0;34m'source'\u001b[0m\u001b[0;34m]\u001b[0m\u001b[0;34m.\u001b[0m\u001b[0misin\u001b[0m\u001b[0;34m(\u001b[0m\u001b[0mdf_source_unique\u001b[0m\u001b[0;34m[\u001b[0m\u001b[0;36m1\u001b[0m\u001b[0;34m]\u001b[0m\u001b[0;34m)\u001b[0m\u001b[0;34m]\u001b[0m\u001b[0;34m\u001b[0m\u001b[0;34m\u001b[0m\u001b[0m\n\u001b[0m",
      "\u001b[0;32m~/anaconda3/lib/python3.9/site-packages/pandas/core/series.py\u001b[0m in \u001b[0;36misin\u001b[0;34m(self, values)\u001b[0m\n\u001b[1;32m   5023\u001b[0m         \u001b[0mdtype\u001b[0m\u001b[0;34m:\u001b[0m \u001b[0mbool\u001b[0m\u001b[0;34m\u001b[0m\u001b[0;34m\u001b[0m\u001b[0m\n\u001b[1;32m   5024\u001b[0m         \"\"\"\n\u001b[0;32m-> 5025\u001b[0;31m         \u001b[0mresult\u001b[0m \u001b[0;34m=\u001b[0m \u001b[0malgorithms\u001b[0m\u001b[0;34m.\u001b[0m\u001b[0misin\u001b[0m\u001b[0;34m(\u001b[0m\u001b[0mself\u001b[0m\u001b[0;34m.\u001b[0m\u001b[0m_values\u001b[0m\u001b[0;34m,\u001b[0m \u001b[0mvalues\u001b[0m\u001b[0;34m)\u001b[0m\u001b[0;34m\u001b[0m\u001b[0;34m\u001b[0m\u001b[0m\n\u001b[0m\u001b[1;32m   5026\u001b[0m         return self._constructor(result, index=self.index).__finalize__(\n\u001b[1;32m   5027\u001b[0m             \u001b[0mself\u001b[0m\u001b[0;34m,\u001b[0m \u001b[0mmethod\u001b[0m\u001b[0;34m=\u001b[0m\u001b[0;34m\"isin\"\u001b[0m\u001b[0;34m\u001b[0m\u001b[0;34m\u001b[0m\u001b[0m\n",
      "\u001b[0;32m~/anaconda3/lib/python3.9/site-packages/pandas/core/algorithms.py\u001b[0m in \u001b[0;36misin\u001b[0;34m(comps, values)\u001b[0m\n\u001b[1;32m    457\u001b[0m         )\n\u001b[1;32m    458\u001b[0m     \u001b[0;32mif\u001b[0m \u001b[0;32mnot\u001b[0m \u001b[0mis_list_like\u001b[0m\u001b[0;34m(\u001b[0m\u001b[0mvalues\u001b[0m\u001b[0;34m)\u001b[0m\u001b[0;34m:\u001b[0m\u001b[0;34m\u001b[0m\u001b[0;34m\u001b[0m\u001b[0m\n\u001b[0;32m--> 459\u001b[0;31m         raise TypeError(\n\u001b[0m\u001b[1;32m    460\u001b[0m             \u001b[0;34m\"only list-like objects are allowed to be passed \"\u001b[0m\u001b[0;34m\u001b[0m\u001b[0;34m\u001b[0m\u001b[0m\n\u001b[1;32m    461\u001b[0m             \u001b[0;34mf\"to isin(), you passed a [{type(values).__name__}]\"\u001b[0m\u001b[0;34m\u001b[0m\u001b[0;34m\u001b[0m\u001b[0m\n",
      "\u001b[0;31mTypeError\u001b[0m: only list-like objects are allowed to be passed to isin(), you passed a [str]"
     ]
    }
   ],
   "source": [
    "df_data_sort[df_data_sort['source'].isin(df_source_unique[1])]"
   ]
  },
  {
   "cell_type": "code",
   "execution_count": null,
   "id": "e104a5d6",
   "metadata": {},
   "outputs": [],
   "source": []
  }
 ],
 "metadata": {
  "kernelspec": {
   "display_name": "Python 3 (ipykernel)",
   "language": "python",
   "name": "python3"
  },
  "language_info": {
   "codemirror_mode": {
    "name": "ipython",
    "version": 3
   },
   "file_extension": ".py",
   "mimetype": "text/x-python",
   "name": "python",
   "nbconvert_exporter": "python",
   "pygments_lexer": "ipython3",
   "version": "3.9.7"
  }
 },
 "nbformat": 4,
 "nbformat_minor": 5
}
